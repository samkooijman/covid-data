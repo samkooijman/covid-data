{
 "cells": [
  {
   "cell_type": "code",
   "execution_count": 9,
   "id": "6d7cdc34-304c-4119-a592-12b3bdb51d4c",
   "metadata": {},
   "outputs": [],
   "source": [
    "%matplotlib notebook"
   ]
  },
  {
   "cell_type": "code",
   "execution_count": 10,
   "id": "ab9cfc24-fea4-4716-8dd2-4d468fa10066",
   "metadata": {},
   "outputs": [],
   "source": [
    "import numpy as np\n",
    "import pandas as pd\n",
    "from pandas_profiling import ProfileReport\n",
    "import matplotlib as pltimport \n",
    "import matplotlib.pyplot as plt\n",
    "from sklearn import linear_model \n",
    "from textblob import TextBlob, Word, Blobber\n",
    "from textblob.classifiers import NaiveBayesClassifier\n",
    "from textblob.taggers import NLTKTagger\n",
    "import datetime as dt\n",
    "import matplotlib.pyplot as plt\n",
    "from sklearn.ensemble import RandomForestClassifier\n",
    "from sklearn.metrics import confusion_matrix\n",
    "from sklearn.model_selection import train_test_split\n",
    "from sklearn.metrics import roc_curve \n",
    "from sklearn.linear_model import LinearRegression \n",
    "from sklearn.metrics import r2_score \n",
    "from sklearn.metrics import roc_auc_score\n",
    "from sklearn.metrics import mean_squared_error\n",
    "import numpy as np\n",
    "import pandas as pd\n",
    "import seaborn as sns"
   ]
  },
  {
   "cell_type": "code",
   "execution_count": 11,
   "id": "ddda2f91-8d0b-4f0d-b1bd-0ec53e45b57b",
   "metadata": {},
   "outputs": [
    {
     "data": {
      "text/html": [
       "<div>\n",
       "<style scoped>\n",
       "    .dataframe tbody tr th:only-of-type {\n",
       "        vertical-align: middle;\n",
       "    }\n",
       "\n",
       "    .dataframe tbody tr th {\n",
       "        vertical-align: top;\n",
       "    }\n",
       "\n",
       "    .dataframe thead th {\n",
       "        text-align: right;\n",
       "    }\n",
       "</style>\n",
       "<table border=\"1\" class=\"dataframe\">\n",
       "  <thead>\n",
       "    <tr style=\"text-align: right;\">\n",
       "      <th></th>\n",
       "      <th>tweet_id</th>\n",
       "      <th>user_id</th>\n",
       "      <th>tweet_timestamp</th>\n",
       "      <th>keyword</th>\n",
       "      <th>valence_intensity</th>\n",
       "      <th>fear_intensity</th>\n",
       "      <th>anger_intensity</th>\n",
       "      <th>happiness_intensity</th>\n",
       "      <th>sadness_intensity</th>\n",
       "      <th>sentiment</th>\n",
       "      <th>emotion</th>\n",
       "    </tr>\n",
       "  </thead>\n",
       "  <tbody>\n",
       "    <tr>\n",
       "      <th>0</th>\n",
       "      <td>1222064436082507776</td>\n",
       "      <td>1531561568</td>\n",
       "      <td>2020-01-27 23-50-41</td>\n",
       "      <td>wuhan</td>\n",
       "      <td>0.442</td>\n",
       "      <td>0.544</td>\n",
       "      <td>0.395</td>\n",
       "      <td>0.301</td>\n",
       "      <td>0.444</td>\n",
       "      <td>negative</td>\n",
       "      <td>fear</td>\n",
       "    </tr>\n",
       "    <tr>\n",
       "      <th>1</th>\n",
       "      <td>1222064820196954112</td>\n",
       "      <td>1531561568</td>\n",
       "      <td>2020-01-27 23-52-12</td>\n",
       "      <td>wuhan</td>\n",
       "      <td>0.421</td>\n",
       "      <td>0.653</td>\n",
       "      <td>0.404</td>\n",
       "      <td>0.306</td>\n",
       "      <td>0.466</td>\n",
       "      <td>negative</td>\n",
       "      <td>fear</td>\n",
       "    </tr>\n",
       "    <tr>\n",
       "      <th>2</th>\n",
       "      <td>1222064820196954112</td>\n",
       "      <td>1531561568</td>\n",
       "      <td>2020-01-27 23-52-12</td>\n",
       "      <td>corona</td>\n",
       "      <td>0.421</td>\n",
       "      <td>0.653</td>\n",
       "      <td>0.404</td>\n",
       "      <td>0.306</td>\n",
       "      <td>0.466</td>\n",
       "      <td>negative</td>\n",
       "      <td>fear</td>\n",
       "    </tr>\n",
       "    <tr>\n",
       "      <th>3</th>\n",
       "      <td>1222075814893772800</td>\n",
       "      <td>436940365</td>\n",
       "      <td>2020-01-28 00-35-53</td>\n",
       "      <td>corona</td>\n",
       "      <td>0.514</td>\n",
       "      <td>0.368</td>\n",
       "      <td>0.399</td>\n",
       "      <td>0.340</td>\n",
       "      <td>0.300</td>\n",
       "      <td>neutral or mixed</td>\n",
       "      <td>no specific emotion</td>\n",
       "    </tr>\n",
       "    <tr>\n",
       "      <th>4</th>\n",
       "      <td>1222108162733608960</td>\n",
       "      <td>3091302413</td>\n",
       "      <td>2020-01-28 02-44-26</td>\n",
       "      <td>corona</td>\n",
       "      <td>0.442</td>\n",
       "      <td>0.489</td>\n",
       "      <td>0.519</td>\n",
       "      <td>0.264</td>\n",
       "      <td>0.432</td>\n",
       "      <td>negative</td>\n",
       "      <td>anger</td>\n",
       "    </tr>\n",
       "    <tr>\n",
       "      <th>...</th>\n",
       "      <td>...</td>\n",
       "      <td>...</td>\n",
       "      <td>...</td>\n",
       "      <td>...</td>\n",
       "      <td>...</td>\n",
       "      <td>...</td>\n",
       "      <td>...</td>\n",
       "      <td>...</td>\n",
       "      <td>...</td>\n",
       "      <td>...</td>\n",
       "      <td>...</td>\n",
       "    </tr>\n",
       "    <tr>\n",
       "      <th>103214</th>\n",
       "      <td>1433197578460536834</td>\n",
       "      <td>115508422</td>\n",
       "      <td>2021-09-01 15-38-24</td>\n",
       "      <td>covid</td>\n",
       "      <td>0.572</td>\n",
       "      <td>0.374</td>\n",
       "      <td>0.310</td>\n",
       "      <td>0.434</td>\n",
       "      <td>0.276</td>\n",
       "      <td>positive</td>\n",
       "      <td>happiness</td>\n",
       "    </tr>\n",
       "    <tr>\n",
       "      <th>103215</th>\n",
       "      <td>1433203871711645706</td>\n",
       "      <td>1350844330248908801</td>\n",
       "      <td>2021-09-01 16-03-25</td>\n",
       "      <td>covid</td>\n",
       "      <td>0.345</td>\n",
       "      <td>0.605</td>\n",
       "      <td>0.539</td>\n",
       "      <td>0.168</td>\n",
       "      <td>0.521</td>\n",
       "      <td>negative</td>\n",
       "      <td>fear</td>\n",
       "    </tr>\n",
       "    <tr>\n",
       "      <th>103216</th>\n",
       "      <td>1433204181737918464</td>\n",
       "      <td>1350844330248908801</td>\n",
       "      <td>2021-09-01 16-04-39</td>\n",
       "      <td>covid</td>\n",
       "      <td>0.345</td>\n",
       "      <td>0.605</td>\n",
       "      <td>0.539</td>\n",
       "      <td>0.168</td>\n",
       "      <td>0.521</td>\n",
       "      <td>negative</td>\n",
       "      <td>fear</td>\n",
       "    </tr>\n",
       "    <tr>\n",
       "      <th>103217</th>\n",
       "      <td>1433210422715428869</td>\n",
       "      <td>41153308</td>\n",
       "      <td>2021-09-01 16-29-27</td>\n",
       "      <td>covid</td>\n",
       "      <td>0.473</td>\n",
       "      <td>0.358</td>\n",
       "      <td>0.398</td>\n",
       "      <td>0.323</td>\n",
       "      <td>0.378</td>\n",
       "      <td>negative</td>\n",
       "      <td>anger</td>\n",
       "    </tr>\n",
       "    <tr>\n",
       "      <th>103218</th>\n",
       "      <td>1433214025756708864</td>\n",
       "      <td>41153308</td>\n",
       "      <td>2021-09-01 16-43-46</td>\n",
       "      <td>covid</td>\n",
       "      <td>0.491</td>\n",
       "      <td>0.346</td>\n",
       "      <td>0.414</td>\n",
       "      <td>0.363</td>\n",
       "      <td>0.367</td>\n",
       "      <td>neutral or mixed</td>\n",
       "      <td>no specific emotion</td>\n",
       "    </tr>\n",
       "  </tbody>\n",
       "</table>\n",
       "<p>103219 rows × 11 columns</p>\n",
       "</div>"
      ],
      "text/plain": [
       "                   tweet_id              user_id      tweet_timestamp keyword  \\\n",
       "0       1222064436082507776           1531561568  2020-01-27 23-50-41   wuhan   \n",
       "1       1222064820196954112           1531561568  2020-01-27 23-52-12   wuhan   \n",
       "2       1222064820196954112           1531561568  2020-01-27 23-52-12  corona   \n",
       "3       1222075814893772800            436940365  2020-01-28 00-35-53  corona   \n",
       "4       1222108162733608960           3091302413  2020-01-28 02-44-26  corona   \n",
       "...                     ...                  ...                  ...     ...   \n",
       "103214  1433197578460536834            115508422  2021-09-01 15-38-24   covid   \n",
       "103215  1433203871711645706  1350844330248908801  2021-09-01 16-03-25   covid   \n",
       "103216  1433204181737918464  1350844330248908801  2021-09-01 16-04-39   covid   \n",
       "103217  1433210422715428869             41153308  2021-09-01 16-29-27   covid   \n",
       "103218  1433214025756708864             41153308  2021-09-01 16-43-46   covid   \n",
       "\n",
       "        valence_intensity  fear_intensity  anger_intensity  \\\n",
       "0                   0.442           0.544            0.395   \n",
       "1                   0.421           0.653            0.404   \n",
       "2                   0.421           0.653            0.404   \n",
       "3                   0.514           0.368            0.399   \n",
       "4                   0.442           0.489            0.519   \n",
       "...                   ...             ...              ...   \n",
       "103214              0.572           0.374            0.310   \n",
       "103215              0.345           0.605            0.539   \n",
       "103216              0.345           0.605            0.539   \n",
       "103217              0.473           0.358            0.398   \n",
       "103218              0.491           0.346            0.414   \n",
       "\n",
       "        happiness_intensity  sadness_intensity         sentiment  \\\n",
       "0                     0.301              0.444          negative   \n",
       "1                     0.306              0.466          negative   \n",
       "2                     0.306              0.466          negative   \n",
       "3                     0.340              0.300  neutral or mixed   \n",
       "4                     0.264              0.432          negative   \n",
       "...                     ...                ...               ...   \n",
       "103214                0.434              0.276          positive   \n",
       "103215                0.168              0.521          negative   \n",
       "103216                0.168              0.521          negative   \n",
       "103217                0.323              0.378          negative   \n",
       "103218                0.363              0.367  neutral or mixed   \n",
       "\n",
       "                    emotion  \n",
       "0                      fear  \n",
       "1                      fear  \n",
       "2                      fear  \n",
       "3       no specific emotion  \n",
       "4                     anger  \n",
       "...                     ...  \n",
       "103214            happiness  \n",
       "103215                 fear  \n",
       "103216                 fear  \n",
       "103217                anger  \n",
       "103218  no specific emotion  \n",
       "\n",
       "[103219 rows x 11 columns]"
      ]
     },
     "execution_count": 11,
     "metadata": {},
     "output_type": "execute_result"
    }
   ],
   "source": [
    "df = pd.read_csv(\"Denmarkdata.csv\")\n",
    "df"
   ]
  },
  {
   "cell_type": "code",
   "execution_count": 13,
   "id": "22e02339-4cfa-4b95-88e4-ed8e4f95c88d",
   "metadata": {
    "tags": []
   },
   "outputs": [],
   "source": [
    "# splitting timestamp column\n",
    "df1 = pd.concat([df['tweet_timestamp'].str.split(' ', expand=True)], axis= 1)\n",
    "                \n",
    "# renaming split columns\n",
    "df1.rename(columns={0:'col_1', 1:'col_2'},inplace=True)\n",
    "\n",
    "# drop second column\n",
    "df1.drop('col_2', axis=1, inplace=True)\n",
    "\n",
    "# merge with d\n",
    "df2 = df.append(df1)"
   ]
  },
  {
   "cell_type": "code",
   "execution_count": 14,
   "id": "81c9f70e-0002-4dc7-b39f-2c060fa6d2f5",
   "metadata": {},
   "outputs": [],
   "source": [
    "# Deleting redundant columns \n",
    "df = df.iloc[: , 1:]\n",
    "\n",
    "# Splitting timestamp and replacing it in df\n",
    "df['tweet_timestamp'] = df['tweet_timestamp'].str.split(' ').str[0]"
   ]
  },
  {
   "cell_type": "code",
   "execution_count": null,
   "id": "43bd7549-5e96-40b0-bde9-9451a1ad3e29",
   "metadata": {},
   "outputs": [
    {
     "data": {
      "text/html": [
       "<div>\n",
       "<style scoped>\n",
       "    .dataframe tbody tr th:only-of-type {\n",
       "        vertical-align: middle;\n",
       "    }\n",
       "\n",
       "    .dataframe tbody tr th {\n",
       "        vertical-align: top;\n",
       "    }\n",
       "\n",
       "    .dataframe thead th {\n",
       "        text-align: right;\n",
       "    }\n",
       "</style>\n",
       "<table border=\"1\" class=\"dataframe\">\n",
       "  <thead>\n",
       "    <tr style=\"text-align: right;\">\n",
       "      <th></th>\n",
       "      <th>user_id</th>\n",
       "      <th>tweet_timestamp</th>\n",
       "      <th>keyword</th>\n",
       "      <th>valence_intensity</th>\n",
       "      <th>fear_intensity</th>\n",
       "      <th>anger_intensity</th>\n",
       "      <th>happiness_intensity</th>\n",
       "      <th>sadness_intensity</th>\n",
       "      <th>sentiment</th>\n",
       "      <th>emotion</th>\n",
       "    </tr>\n",
       "  </thead>\n",
       "  <tbody>\n",
       "    <tr>\n",
       "      <th>0</th>\n",
       "      <td>1531561568</td>\n",
       "      <td>2020-01-27</td>\n",
       "      <td>wuhan</td>\n",
       "      <td>0.442</td>\n",
       "      <td>0.544</td>\n",
       "      <td>0.395</td>\n",
       "      <td>0.301</td>\n",
       "      <td>0.444</td>\n",
       "      <td>negative</td>\n",
       "      <td>fear</td>\n",
       "    </tr>\n",
       "    <tr>\n",
       "      <th>1</th>\n",
       "      <td>1531561568</td>\n",
       "      <td>2020-01-27</td>\n",
       "      <td>wuhan</td>\n",
       "      <td>0.421</td>\n",
       "      <td>0.653</td>\n",
       "      <td>0.404</td>\n",
       "      <td>0.306</td>\n",
       "      <td>0.466</td>\n",
       "      <td>negative</td>\n",
       "      <td>fear</td>\n",
       "    </tr>\n",
       "    <tr>\n",
       "      <th>2</th>\n",
       "      <td>1531561568</td>\n",
       "      <td>2020-01-27</td>\n",
       "      <td>corona</td>\n",
       "      <td>0.421</td>\n",
       "      <td>0.653</td>\n",
       "      <td>0.404</td>\n",
       "      <td>0.306</td>\n",
       "      <td>0.466</td>\n",
       "      <td>negative</td>\n",
       "      <td>fear</td>\n",
       "    </tr>\n",
       "    <tr>\n",
       "      <th>3</th>\n",
       "      <td>436940365</td>\n",
       "      <td>2020-01-28</td>\n",
       "      <td>corona</td>\n",
       "      <td>0.514</td>\n",
       "      <td>0.368</td>\n",
       "      <td>0.399</td>\n",
       "      <td>0.340</td>\n",
       "      <td>0.300</td>\n",
       "      <td>neutral or mixed</td>\n",
       "      <td>no specific emotion</td>\n",
       "    </tr>\n",
       "    <tr>\n",
       "      <th>4</th>\n",
       "      <td>3091302413</td>\n",
       "      <td>2020-01-28</td>\n",
       "      <td>corona</td>\n",
       "      <td>0.442</td>\n",
       "      <td>0.489</td>\n",
       "      <td>0.519</td>\n",
       "      <td>0.264</td>\n",
       "      <td>0.432</td>\n",
       "      <td>negative</td>\n",
       "      <td>anger</td>\n",
       "    </tr>\n",
       "    <tr>\n",
       "      <th>...</th>\n",
       "      <td>...</td>\n",
       "      <td>...</td>\n",
       "      <td>...</td>\n",
       "      <td>...</td>\n",
       "      <td>...</td>\n",
       "      <td>...</td>\n",
       "      <td>...</td>\n",
       "      <td>...</td>\n",
       "      <td>...</td>\n",
       "      <td>...</td>\n",
       "    </tr>\n",
       "    <tr>\n",
       "      <th>103214</th>\n",
       "      <td>115508422</td>\n",
       "      <td>2021-09-01</td>\n",
       "      <td>covid</td>\n",
       "      <td>0.572</td>\n",
       "      <td>0.374</td>\n",
       "      <td>0.310</td>\n",
       "      <td>0.434</td>\n",
       "      <td>0.276</td>\n",
       "      <td>positive</td>\n",
       "      <td>happiness</td>\n",
       "    </tr>\n",
       "    <tr>\n",
       "      <th>103215</th>\n",
       "      <td>1350844330248908801</td>\n",
       "      <td>2021-09-01</td>\n",
       "      <td>covid</td>\n",
       "      <td>0.345</td>\n",
       "      <td>0.605</td>\n",
       "      <td>0.539</td>\n",
       "      <td>0.168</td>\n",
       "      <td>0.521</td>\n",
       "      <td>negative</td>\n",
       "      <td>fear</td>\n",
       "    </tr>\n",
       "    <tr>\n",
       "      <th>103216</th>\n",
       "      <td>1350844330248908801</td>\n",
       "      <td>2021-09-01</td>\n",
       "      <td>covid</td>\n",
       "      <td>0.345</td>\n",
       "      <td>0.605</td>\n",
       "      <td>0.539</td>\n",
       "      <td>0.168</td>\n",
       "      <td>0.521</td>\n",
       "      <td>negative</td>\n",
       "      <td>fear</td>\n",
       "    </tr>\n",
       "    <tr>\n",
       "      <th>103217</th>\n",
       "      <td>41153308</td>\n",
       "      <td>2021-09-01</td>\n",
       "      <td>covid</td>\n",
       "      <td>0.473</td>\n",
       "      <td>0.358</td>\n",
       "      <td>0.398</td>\n",
       "      <td>0.323</td>\n",
       "      <td>0.378</td>\n",
       "      <td>negative</td>\n",
       "      <td>anger</td>\n",
       "    </tr>\n",
       "    <tr>\n",
       "      <th>103218</th>\n",
       "      <td>41153308</td>\n",
       "      <td>2021-09-01</td>\n",
       "      <td>covid</td>\n",
       "      <td>0.491</td>\n",
       "      <td>0.346</td>\n",
       "      <td>0.414</td>\n",
       "      <td>0.363</td>\n",
       "      <td>0.367</td>\n",
       "      <td>neutral or mixed</td>\n",
       "      <td>no specific emotion</td>\n",
       "    </tr>\n",
       "  </tbody>\n",
       "</table>\n",
       "<p>103219 rows × 10 columns</p>\n",
       "</div>"
      ],
      "text/plain": [
       "                    user_id tweet_timestamp keyword  valence_intensity  \\\n",
       "0                1531561568      2020-01-27   wuhan              0.442   \n",
       "1                1531561568      2020-01-27   wuhan              0.421   \n",
       "2                1531561568      2020-01-27  corona              0.421   \n",
       "3                 436940365      2020-01-28  corona              0.514   \n",
       "4                3091302413      2020-01-28  corona              0.442   \n",
       "...                     ...             ...     ...                ...   \n",
       "103214            115508422      2021-09-01   covid              0.572   \n",
       "103215  1350844330248908801      2021-09-01   covid              0.345   \n",
       "103216  1350844330248908801      2021-09-01   covid              0.345   \n",
       "103217             41153308      2021-09-01   covid              0.473   \n",
       "103218             41153308      2021-09-01   covid              0.491   \n",
       "\n",
       "        fear_intensity  anger_intensity  happiness_intensity  \\\n",
       "0                0.544            0.395                0.301   \n",
       "1                0.653            0.404                0.306   \n",
       "2                0.653            0.404                0.306   \n",
       "3                0.368            0.399                0.340   \n",
       "4                0.489            0.519                0.264   \n",
       "...                ...              ...                  ...   \n",
       "103214           0.374            0.310                0.434   \n",
       "103215           0.605            0.539                0.168   \n",
       "103216           0.605            0.539                0.168   \n",
       "103217           0.358            0.398                0.323   \n",
       "103218           0.346            0.414                0.363   \n",
       "\n",
       "        sadness_intensity         sentiment              emotion  \n",
       "0                   0.444          negative                 fear  \n",
       "1                   0.466          negative                 fear  \n",
       "2                   0.466          negative                 fear  \n",
       "3                   0.300  neutral or mixed  no specific emotion  \n",
       "4                   0.432          negative                anger  \n",
       "...                   ...               ...                  ...  \n",
       "103214              0.276          positive            happiness  \n",
       "103215              0.521          negative                 fear  \n",
       "103216              0.521          negative                 fear  \n",
       "103217              0.378          negative                anger  \n",
       "103218              0.367  neutral or mixed  no specific emotion  \n",
       "\n",
       "[103219 rows x 10 columns]"
      ]
     },
     "execution_count": 15,
     "metadata": {},
     "output_type": "execute_result"
    }
   ],
   "source": [
    "# to date type\n",
    "df['tweet_timestamp'] = pd.to_datetime(df.tweet_timestamp)\n",
    "#df['tweet_timestamp']=df['tweet_timestamp'].map(dt.datetime.toordinal)\n",
    "#df = df.iloc[: , 1:]\n",
    "df"
   ]
  },
  {
   "cell_type": "code",
   "execution_count": null,
   "id": "d07fc631-afb5-4e43-bbda-79fa585489c9",
   "metadata": {
    "tags": []
   },
   "outputs": [],
   "source": [
    "profile = ProfileReport(df, title=\"Pandas Profiling Report\", explorative=True)\n",
    "profile.to_notebook_iframe()"
   ]
  },
  {
   "cell_type": "code",
   "execution_count": 22,
   "id": "1c8ca6e5-ce7e-4323-9935-53d3af904bee",
   "metadata": {},
   "outputs": [
    {
     "data": {
      "text/plain": [
       "<matplotlib.collections.PathCollection at 0x7fde5e078160>"
      ]
     },
     "execution_count": 22,
     "metadata": {},
     "output_type": "execute_result"
    },
    {
     "data": {
      "image/png": "[encoded data removed]",
      "text/plain": [
       "<Figure size 432x288 with 1 Axes>"
      ]
     },
     "metadata": {
      "needs_background": "light"
     },
     "output_type": "display_data"
    }
   ],
   "source": [
    "%matplotlib inline\n",
    "plt.xlabel('tweet_timestamp')\n",
    "plt.ylabel('hapiness_intensity')\n",
    "plt.scatter(df.tweet_timestamp, df.happiness_intensity, color='pink', marker='+')"
   ]
  },
  {
   "cell_type": "code",
   "execution_count": 36,
   "id": "9106e685-12e5-4fe9-862f-c27850b57644",
   "metadata": {},
   "outputs": [
    {
     "data": {
      "text/plain": [
       "<matplotlib.collections.PathCollection at 0x7f420bb1fd30>"
      ]
     },
     "execution_count": 36,
     "metadata": {},
     "output_type": "execute_result"
    },
    {
     "data": {
      "image/png": "[encoded data removed]",
      "text/plain": [
       "<Figure size 432x288 with 1 Axes>"
      ]
     },
     "metadata": {
      "needs_background": "light"
     },
     "output_type": "display_data"
    }
   ],
   "source": [
    "plt.scatter(df.tweet_timestamp, df.anger_intensity, color='red', marker='+')"
   ]
  },
  {
   "cell_type": "code",
   "execution_count": 37,
   "id": "f979f135-5068-43cc-bf26-b29f974160fe",
   "metadata": {},
   "outputs": [
    {
     "data": {
      "text/plain": [
       "<matplotlib.collections.PathCollection at 0x7f420ba29a60>"
      ]
     },
     "execution_count": 37,
     "metadata": {},
     "output_type": "execute_result"
    },
    {
     "data": {
      "image/png": "[encoded data removed]",
      "text/plain": [
       "<Figure size 432x288 with 1 Axes>"
      ]
     },
     "metadata": {
      "needs_background": "light"
     },
     "output_type": "display_data"
    }
   ],
   "source": [
    "plt.scatter(df.tweet_timestamp, df.fear_intensity, color='purple', marker='+')"
   ]
  },
  {
   "cell_type": "code",
   "execution_count": 38,
   "id": "691f14cc-bd9c-4141-a086-c778d934b434",
   "metadata": {},
   "outputs": [
    {
     "data": {
      "text/plain": [
       "<matplotlib.collections.PathCollection at 0x7f420b9fbc40>"
      ]
     },
     "execution_count": 38,
     "metadata": {},
     "output_type": "execute_result"
    },
    {
     "data": {
      "image/png": "[encoded data removed]",
      "text/plain": [
       "<Figure size 432x288 with 1 Axes>"
      ]
     },
     "metadata": {
      "needs_background": "light"
     },
     "output_type": "display_data"
    }
   ],
   "source": [
    "plt.scatter(df.tweet_timestamp, df.valence_intensity, color='yellow', marker='+')"
   ]
  },
  {
   "cell_type": "code",
   "execution_count": 122,
   "id": "b8054b40-2325-446b-a4fe-b69221107c18",
   "metadata": {},
   "outputs": [
    {
     "data": {
      "text/plain": [
       "<matplotlib.collections.PathCollection at 0x7fde3e6a3370>"
      ]
     },
     "execution_count": 122,
     "metadata": {},
     "output_type": "execute_result"
    },
    {
     "data": {
      "image/png": "[encoded data removed]",
      "text/plain": [
       "<Figure size 432x288 with 1 Axes>"
      ]
     },
     "metadata": {
      "needs_background": "light"
     },
     "output_type": "display_data"
    }
   ],
   "source": [
    "plt.scatter(df.tweet_timestamp, df.sadness_intensity, color='green', marker='+')"
   ]
  },
  {
   "cell_type": "code",
   "execution_count": 29,
   "id": "e5583f0e-9b2b-48a1-a3a4-74df9329eb2e",
   "metadata": {},
   "outputs": [
    {
     "data": {
      "text/plain": [
       "emotion  tweet_timestamp\n",
       "anger    2020-01-28         1\n",
       "         2020-01-29         1\n",
       "         2020-01-30         1\n",
       "         2020-01-31         1\n",
       "         2020-02-01         1\n",
       "Name: tweet_timestamp, dtype: int64"
      ]
     },
     "execution_count": 29,
     "metadata": {},
     "output_type": "execute_result"
    }
   ],
   "source": [
    "# GROUP BY SAME USER ON THE SAME DAY\n",
    "# g = df.groupby(['hour_utc','minute_utc','username'])\n",
    "# This means that only rows that have the same value of hour_utc, minute_utc, \n",
    "# username can be considered an occurrence of the same category.\n",
    "%matplotlib inline\n",
    "g = df.groupby(['emotion','tweet_timestamp'])\n",
    "\n",
    "#count the occurences of emotion-category per unique day \n",
    "#tweet_cnt = g.emotion[fear] / emotion[anger] / emotion[happiness].nunique()\n",
    "tweet_cnt = g.tweet_timestamp.nunique()\n",
    "tweet_cnt.head()\n",
    "\n",
    "#plot heatmap\n",
    "#sns.heatmap(dt_tweet_cnt)\n",
    "#plt.show()"
   ]
  },
  {
   "cell_type": "code",
   "execution_count": 35,
   "id": "5741e1c6-f63c-417b-a211-18feb934fc24",
   "metadata": {},
   "outputs": [
    {
     "data": {
      "text/html": [
       "<div>\n",
       "<style scoped>\n",
       "    .dataframe tbody tr th:only-of-type {\n",
       "        vertical-align: middle;\n",
       "    }\n",
       "\n",
       "    .dataframe tbody tr th {\n",
       "        vertical-align: top;\n",
       "    }\n",
       "\n",
       "    .dataframe thead th {\n",
       "        text-align: right;\n",
       "    }\n",
       "</style>\n",
       "<table border=\"1\" class=\"dataframe\">\n",
       "  <thead>\n",
       "    <tr style=\"text-align: right;\">\n",
       "      <th></th>\n",
       "      <th>user_id</th>\n",
       "      <th>valence_intensity</th>\n",
       "      <th>fear_intensity</th>\n",
       "      <th>anger_intensity</th>\n",
       "      <th>happiness_intensity</th>\n",
       "      <th>sadness_intensity</th>\n",
       "    </tr>\n",
       "  </thead>\n",
       "  <tbody>\n",
       "    <tr>\n",
       "      <th>count</th>\n",
       "      <td>1.032190e+05</td>\n",
       "      <td>103219.000000</td>\n",
       "      <td>103219.000000</td>\n",
       "      <td>103219.000000</td>\n",
       "      <td>103219.000000</td>\n",
       "      <td>103219.000000</td>\n",
       "    </tr>\n",
       "    <tr>\n",
       "      <th>mean</th>\n",
       "      <td>3.291027e+17</td>\n",
       "      <td>0.464750</td>\n",
       "      <td>0.439380</td>\n",
       "      <td>0.438897</td>\n",
       "      <td>0.306337</td>\n",
       "      <td>0.407404</td>\n",
       "    </tr>\n",
       "    <tr>\n",
       "      <th>std</th>\n",
       "      <td>4.969530e+17</td>\n",
       "      <td>0.093396</td>\n",
       "      <td>0.095674</td>\n",
       "      <td>0.081142</td>\n",
       "      <td>0.093086</td>\n",
       "      <td>0.078352</td>\n",
       "    </tr>\n",
       "    <tr>\n",
       "      <th>min</th>\n",
       "      <td>3.860000e+03</td>\n",
       "      <td>0.019000</td>\n",
       "      <td>0.057000</td>\n",
       "      <td>0.130000</td>\n",
       "      <td>-0.013000</td>\n",
       "      <td>0.112000</td>\n",
       "    </tr>\n",
       "    <tr>\n",
       "      <th>25%</th>\n",
       "      <td>9.517435e+07</td>\n",
       "      <td>0.403000</td>\n",
       "      <td>0.371000</td>\n",
       "      <td>0.385000</td>\n",
       "      <td>0.243000</td>\n",
       "      <td>0.353000</td>\n",
       "    </tr>\n",
       "    <tr>\n",
       "      <th>50%</th>\n",
       "      <td>1.015290e+09</td>\n",
       "      <td>0.466000</td>\n",
       "      <td>0.435000</td>\n",
       "      <td>0.434000</td>\n",
       "      <td>0.304000</td>\n",
       "      <td>0.400000</td>\n",
       "    </tr>\n",
       "    <tr>\n",
       "      <th>75%</th>\n",
       "      <td>8.361417e+17</td>\n",
       "      <td>0.524000</td>\n",
       "      <td>0.505000</td>\n",
       "      <td>0.489000</td>\n",
       "      <td>0.361000</td>\n",
       "      <td>0.456000</td>\n",
       "    </tr>\n",
       "    <tr>\n",
       "      <th>max</th>\n",
       "      <td>1.426223e+18</td>\n",
       "      <td>0.957000</td>\n",
       "      <td>1.038000</td>\n",
       "      <td>0.921000</td>\n",
       "      <td>0.874000</td>\n",
       "      <td>0.826000</td>\n",
       "    </tr>\n",
       "  </tbody>\n",
       "</table>\n",
       "</div>"
      ],
      "text/plain": [
       "            user_id  valence_intensity  fear_intensity  anger_intensity  \\\n",
       "count  1.032190e+05      103219.000000   103219.000000    103219.000000   \n",
       "mean   3.291027e+17           0.464750        0.439380         0.438897   \n",
       "std    4.969530e+17           0.093396        0.095674         0.081142   \n",
       "min    3.860000e+03           0.019000        0.057000         0.130000   \n",
       "25%    9.517435e+07           0.403000        0.371000         0.385000   \n",
       "50%    1.015290e+09           0.466000        0.435000         0.434000   \n",
       "75%    8.361417e+17           0.524000        0.505000         0.489000   \n",
       "max    1.426223e+18           0.957000        1.038000         0.921000   \n",
       "\n",
       "       happiness_intensity  sadness_intensity  \n",
       "count        103219.000000      103219.000000  \n",
       "mean              0.306337           0.407404  \n",
       "std               0.093086           0.078352  \n",
       "min              -0.013000           0.112000  \n",
       "25%               0.243000           0.353000  \n",
       "50%               0.304000           0.400000  \n",
       "75%               0.361000           0.456000  \n",
       "max               0.874000           0.826000  "
      ]
     },
     "execution_count": 35,
     "metadata": {},
     "output_type": "execute_result"
    }
   ],
   "source": [
    "df.describe()"
   ]
  },
  {
   "cell_type": "code",
   "execution_count": 16,
   "id": "18cf5612-ee85-413d-8b36-6fdd7880d8b7",
   "metadata": {},
   "outputs": [],
   "source": [
    "# function to get subjectivity\n",
    "def GetSubjectivity(text):\n",
    "    return TextBlob(text).Sentiment.Subjectivty\n",
    "\n",
    "# function getting polarity \n",
    "def GetPolarity(text):\n",
    "    return TextBlob(text).sentiment.polarity"
   ]
  },
  {
   "cell_type": "code",
   "execution_count": null,
   "id": "1063173a-9386-4dd2-8d22-05ccedecf924",
   "metadata": {},
   "outputs": [],
   "source": [
    "df['happiness_intensity'].apply(GetSubjectivity)\n",
    "df['happiness_intensity'].apply(GetPolarity)"
   ]
  },
  {
   "cell_type": "code",
   "execution_count": 36,
   "id": "18b182eb-3921-49f4-863e-21a2a08b680e",
   "metadata": {},
   "outputs": [],
   "source": [
    "df['tweet_timestamp'] = df['tweet_timestamp'].map(dt.datetime.toordinal)"
   ]
  },
  {
   "cell_type": "code",
   "execution_count": 23,
   "id": "475073e4-35b9-4958-a14e-c15ff79e5c24",
   "metadata": {},
   "outputs": [
    {
     "data": {
      "text/plain": [
       "<AxesSubplot:xlabel='tweet_timestamp'>"
      ]
     },
     "execution_count": 23,
     "metadata": {},
     "output_type": "execute_result"
    },
    {
     "data": {
      "image/png": "[encoded data removed]",
      "text/plain": [
       "<Figure size 432x288 with 1 Axes>"
      ]
     },
     "metadata": {
      "needs_background": "light"
     },
     "output_type": "display_data"
    }
   ],
   "source": [
    "%matplotlib inline\n",
    "df.plot(x = 'tweet_timestamp', y = 'fear_intensity')"
   ]
  },
  {
   "cell_type": "code",
   "execution_count": 29,
   "id": "2896d63e-0068-4277-b233-eb4df75f98c5",
   "metadata": {},
   "outputs": [
    {
     "data": {
      "text/plain": [
       "Text(0, 0.5, 'sentiment')"
      ]
     },
     "execution_count": 29,
     "metadata": {},
     "output_type": "execute_result"
    },
    {
     "data": {
      "image/png": "[encoded data removed]",
      "text/plain": [
       "<Figure size 432x288 with 1 Axes>"
      ]
     },
     "metadata": {
      "needs_background": "light"
     },
     "output_type": "display_data"
    }
   ],
   "source": [
    "# Import the libraries\n",
    "import matplotlib.pyplot as plt\n",
    "import seaborn as sns\n",
    "\n",
    "# matplotlib histogram\n",
    "plt.hist(df['fear_intensity'], color = 'blue', edgecolor = 'black',\n",
    "         bins = int(180/5))\n",
    "\n",
    "# seaborn histogram\n",
    "sns.distplot(df['fear_intensity'], hist=True, kde=False, \n",
    "             bins=int(180/5), color = 'blue',\n",
    "             hist_kws={'edgecolor':'black'})\n",
    "# Add labels\n",
    "plt.title('Histogram fear-Intensity')\n",
    "plt.xlabel('timestamp')\n",
    "plt.ylabel('sentiment')"
   ]
  },
  {
   "cell_type": "code",
   "execution_count": 49,
   "id": "b55ce1b6-38c2-4b95-aa66-850da67ed731",
   "metadata": {},
   "outputs": [
    {
     "data": {
      "text/plain": [
       "<AxesSubplot:>"
      ]
     },
     "execution_count": 49,
     "metadata": {},
     "output_type": "execute_result"
    },
    {
     "data": {
      "image/png": "[encoded data removed]",
      "text/plain": [
       "<Figure size 432x288 with 2 Axes>"
      ]
     },
     "metadata": {
      "needs_background": "light"
     },
     "output_type": "display_data"
    }
   ],
   "source": [
    "%matplotlib inline\n",
    "correlaties = df.corr()\n",
    "sns.heatmap(correlaties)"
   ]
  },
  {
   "cell_type": "code",
   "execution_count": 54,
   "id": "da3fc8ae-8621-4e0a-8063-4228fd7e0936",
   "metadata": {},
   "outputs": [
    {
     "data": {
      "text/html": [
       "<div>\n",
       "<style scoped>\n",
       "    .dataframe tbody tr th:only-of-type {\n",
       "        vertical-align: middle;\n",
       "    }\n",
       "\n",
       "    .dataframe tbody tr th {\n",
       "        vertical-align: top;\n",
       "    }\n",
       "\n",
       "    .dataframe thead th {\n",
       "        text-align: right;\n",
       "    }\n",
       "</style>\n",
       "<table border=\"1\" class=\"dataframe\">\n",
       "  <thead>\n",
       "    <tr style=\"text-align: right;\">\n",
       "      <th></th>\n",
       "      <th>region</th>\n",
       "      <th>date</th>\n",
       "      <th>gender</th>\n",
       "      <th>confirmed_cases</th>\n",
       "      <th>deaths</th>\n",
       "    </tr>\n",
       "  </thead>\n",
       "  <tbody>\n",
       "    <tr>\n",
       "      <th>0</th>\n",
       "      <td>Sjælland</td>\n",
       "      <td>26-2-2020</td>\n",
       "      <td>M</td>\n",
       "      <td>1</td>\n",
       "      <td>0</td>\n",
       "    </tr>\n",
       "    <tr>\n",
       "      <th>1</th>\n",
       "      <td>Hovedstaden</td>\n",
       "      <td>27-2-2020</td>\n",
       "      <td>M</td>\n",
       "      <td>1</td>\n",
       "      <td>0</td>\n",
       "    </tr>\n",
       "    <tr>\n",
       "      <th>2</th>\n",
       "      <td>Midtjylland</td>\n",
       "      <td>28-2-2020</td>\n",
       "      <td>M</td>\n",
       "      <td>1</td>\n",
       "      <td>0</td>\n",
       "    </tr>\n",
       "    <tr>\n",
       "      <th>3</th>\n",
       "      <td>Hovedstaden</td>\n",
       "      <td>1-3-2020</td>\n",
       "      <td>M</td>\n",
       "      <td>1</td>\n",
       "      <td>0</td>\n",
       "    </tr>\n",
       "    <tr>\n",
       "      <th>4</th>\n",
       "      <td>Hovedstaden</td>\n",
       "      <td>2-3-2020</td>\n",
       "      <td>M</td>\n",
       "      <td>2</td>\n",
       "      <td>0</td>\n",
       "    </tr>\n",
       "    <tr>\n",
       "      <th>...</th>\n",
       "      <td>...</td>\n",
       "      <td>...</td>\n",
       "      <td>...</td>\n",
       "      <td>...</td>\n",
       "      <td>...</td>\n",
       "    </tr>\n",
       "    <tr>\n",
       "      <th>5507</th>\n",
       "      <td>Midtjylland</td>\n",
       "      <td>4-10-2021</td>\n",
       "      <td>M</td>\n",
       "      <td>36</td>\n",
       "      <td>0</td>\n",
       "    </tr>\n",
       "    <tr>\n",
       "      <th>5508</th>\n",
       "      <td>Nordjylland</td>\n",
       "      <td>4-10-2021</td>\n",
       "      <td>M</td>\n",
       "      <td>8</td>\n",
       "      <td>0</td>\n",
       "    </tr>\n",
       "    <tr>\n",
       "      <th>5509</th>\n",
       "      <td>Sjælland</td>\n",
       "      <td>4-10-2021</td>\n",
       "      <td>M</td>\n",
       "      <td>20</td>\n",
       "      <td>0</td>\n",
       "    </tr>\n",
       "    <tr>\n",
       "      <th>5510</th>\n",
       "      <td>Syddanmark</td>\n",
       "      <td>4-10-2021</td>\n",
       "      <td>M</td>\n",
       "      <td>39</td>\n",
       "      <td>0</td>\n",
       "    </tr>\n",
       "    <tr>\n",
       "      <th>5511</th>\n",
       "      <td>Hovedstaden</td>\n",
       "      <td>5-10-2021</td>\n",
       "      <td>M</td>\n",
       "      <td>1</td>\n",
       "      <td>0</td>\n",
       "    </tr>\n",
       "  </tbody>\n",
       "</table>\n",
       "<p>5512 rows × 5 columns</p>\n",
       "</div>"
      ],
      "text/plain": [
       "           region       date gender  confirmed_cases  deaths\n",
       "0        Sjælland  26-2-2020      M                1       0\n",
       "1     Hovedstaden  27-2-2020      M                1       0\n",
       "2     Midtjylland  28-2-2020      M                1       0\n",
       "3     Hovedstaden   1-3-2020      M                1       0\n",
       "4     Hovedstaden   2-3-2020      M                2       0\n",
       "...           ...        ...    ...              ...     ...\n",
       "5507  Midtjylland  4-10-2021      M               36       0\n",
       "5508  Nordjylland  4-10-2021      M                8       0\n",
       "5509     Sjælland  4-10-2021      M               20       0\n",
       "5510   Syddanmark  4-10-2021      M               39       0\n",
       "5511  Hovedstaden  5-10-2021      M                1       0\n",
       "\n",
       "[5512 rows x 5 columns]"
      ]
     },
     "execution_count": 54,
     "metadata": {},
     "output_type": "execute_result"
    }
   ],
   "source": [
    "infection_denmark = pd.read_csv('https://raw.githubusercontent.com/samkooijman/covid-data/main/Data%20dictionaries/Denmark/infections_denmark/confirmed_cases_denmark_per_region.csv', encoding = 'unicode_escape', delimiter = ';')\n",
    "infection_denmark = infection_denmark.rename(columns={\"Region\" : \"region\", \"Prøvetagningsdato\": \"date\", \"Køn\" : \"gender\", \"Bekræftede tilfælde\" : \"confirmed_cases\", \"Døde\" : \"deaths\"})\n",
    "infection_denmark = infection_denmark.iloc[: , 0 : 5]\n",
    "infection_denmark"
   ]
  },
  {
   "cell_type": "code",
   "execution_count": 81,
   "id": "f31a97f4-1ae4-4fd5-9808-44730030b3f4",
   "metadata": {},
   "outputs": [
    {
     "data": {
      "text/plain": [
       "<AxesSubplot:>"
      ]
     },
     "execution_count": 81,
     "metadata": {},
     "output_type": "execute_result"
    },
    {
     "data": {
      "image/png": "[encoded data removed]",
      "text/plain": [
       "<Figure size 432x288 with 2 Axes>"
      ]
     },
     "metadata": {
      "needs_background": "light"
     },
     "output_type": "display_data"
    }
   ],
   "source": [
    "merged = infection_denmark.join(df, lsuffix=\"_left\")\n",
    "%matplotlib inline\n",
    "correlaties = merged.corr()\n",
    "sns.heatmap(correlaties)"
   ]
  },
  {
   "cell_type": "code",
   "execution_count": 86,
   "id": "1b5adec0-dc9a-4ee7-b3b8-09ef27ce93e8",
   "metadata": {},
   "outputs": [],
   "source": [
    "data_path = pd.read_csv('https://raw.githubusercontent.com/samkooijman/covid-data/main/Data%20dictionaries/Denmark/infections_denmark/confirmed_cases_denmark_per_region.csv', encoding = 'unicode_escape', delimiter = ';')\n",
    "infection_denmark = infection_denmark.rename(columns={\"Region\" : \"region\", \"Prøvetagningsdato\": \"date\", \"Køn\" : \"gender\", \"Bekræftede tilfælde\" : \"confirmed_cases\", \"Døde\" : \"deaths\"})\n",
    "infection_denmark = infection_denmark.iloc[: , 0 : 5]\n",
    "infection_denmark.to_csv('denmark_infec.csv')"
   ]
  },
  {
   "cell_type": "code",
   "execution_count": 95,
   "id": "81789dd6-1d37-4fef-b9a5-80b0d0ec42a9",
   "metadata": {},
   "outputs": [],
   "source": [
    "def plot_confusion_matrix(conf_mat,\n",
    "                          hide_spines=False,\n",
    "                          hide_ticks=False,\n",
    "                          figsize=None,\n",
    "                          cmap=None,\n",
    "                          colorbar=False,\n",
    "                          show_absolute=True,\n",
    "                          show_normed=False,\n",
    "                          class_names=None,\n",
    "                          figure=None,\n",
    "                          axis=None):\n",
    "    \n",
    "    if not (show_absolute or show_normed):\n",
    "        raise AssertionError('Both show_absolute and show_normed are False')\n",
    "    if class_names is not None and len(class_names) != len(conf_mat):\n",
    "        raise AssertionError('len(class_names) should be equal to number of'\n",
    "                             'classes in the dataset')\n",
    "\n",
    "    total_samples = conf_mat.sum(axis=1)[:, np.newaxis]\n",
    "    normed_conf_mat = conf_mat.astype('float') / total_samples\n",
    "\n",
    "    if figure is None and axis is None:\n",
    "        fig, ax = plt.subplots(figsize=figsize)\n",
    "    elif axis is None:\n",
    "        fig = figure\n",
    "        ax = fig.add_subplot(1, 1, 1)\n",
    "    else:\n",
    "        fig, ax = figure, axis\n",
    "\n",
    "    ax.grid(False)\n",
    "    if cmap is None:\n",
    "        cmap = plt.cm.Blues\n",
    "\n",
    "    if figsize is None:\n",
    "        figsize = (len(conf_mat)*1.25, len(conf_mat)*1.25)\n",
    "\n",
    "    if show_normed:\n",
    "        matshow = ax.matshow(normed_conf_mat, cmap=cmap)\n",
    "    else:\n",
    "        matshow = ax.matshow(conf_mat, cmap=cmap)\n",
    "\n",
    "    if colorbar:\n",
    "        fig.colorbar(matshow)\n",
    "\n",
    "    for i in range(conf_mat.shape[0]):\n",
    "        for j in range(conf_mat.shape[1]):\n",
    "            cell_text = \"\"\n",
    "            if show_absolute:\n",
    "                cell_text += format(conf_mat[i, j], 'd')\n",
    "                if show_normed:\n",
    "                    cell_text += \"\\n\" + '('\n",
    "                    cell_text += format(normed_conf_mat[i, j], '.2f') + ')'\n",
    "            else:\n",
    "                cell_text += format(normed_conf_mat[i, j], '.2f')\n",
    "            if show_normed:\n",
    "                ax.text(x=j,\n",
    "                        y=i,\n",
    "                        s=cell_text,\n",
    "                        va='center',\n",
    "                        ha='center',\n",
    "                        color=\"white\" if normed_conf_mat[i, j] > 0.5\n",
    "                        else \"black\")\n",
    "            else:\n",
    "                ax.text(x=j,\n",
    "                        y=i,\n",
    "                        s=cell_text,\n",
    "                        va='center',\n",
    "                        ha='center',\n",
    "                        color=\"white\" if conf_mat[i, j] > np.max(conf_mat)/2\n",
    "                        else \"black\")\n",
    "    if class_names is not None:\n",
    "        tick_marks = np.arange(len(class_names))\n",
    "        plt.xticks(tick_marks, class_names, rotation=45)\n",
    "        plt.yticks(tick_marks, class_names)\n",
    "\n",
    "    if hide_spines:\n",
    "        ax.spines['right'].set_visible(False)\n",
    "        ax.spines['top'].set_visible(False)\n",
    "        ax.spines['left'].set_visible(False)\n",
    "        ax.spines['bottom'].set_visible(False)\n",
    "    ax.yaxis.set_ticks_position('left')\n",
    "    ax.xaxis.set_ticks_position('bottom')\n",
    "    if hide_ticks:\n",
    "        ax.axes.get_yaxis().set_ticks([])\n",
    "        ax.axes.get_xaxis().set_ticks([])\n",
    "\n",
    "    plt.xlabel('predicted label')\n",
    "    plt.ylabel('true label')\n",
    "    return fig, ax\n",
    "\n",
    "def plot_feature_importance(data_x, clf):\n",
    "    df = pd.DataFrame({'variables': data_x.columns, 'importance': clf.feature_importances_})\n",
    "    df_imp = df.sort_values(by = ['importance'], ascending=False).head(10).iloc[::-1]\n",
    "    \n",
    "    plt.barh(df_imp.variables, df_imp.importance)\n",
    "    plt.xlabel(\"Feature importance\")\n",
    "    plt.title(\"Most important features found in the Random Forest\")\n",
    "\n",
    "def read_data():\n",
    "    data = pd.read_csv(data_path)\n",
    "    data_x = data.drop(['deaths'], axis = 1)\n",
    "    data_y = data['deaths']\n",
    "    data_x = pd.get_dummies(data_x)\n",
    "    return data_x, data_y\n",
    "\n",
    "def run_settings(settings):\n",
    "    # Perform data preparations\n",
    "\n",
    "    data_x, data_y = read_data()\n",
    "    train_x, test_x, train_y, test_y = train_test_split(data_x, data_y, train_size=settings['Split ratio'], random_state=42)\n",
    "    \n",
    "    # Create and fit random forest\n",
    "    random_forest =  RandomForestClassifier(n_estimators=settings['Number of trees'], max_features=settings['Maximum features'], random_state=42)\n",
    "    random_forest.fit(train_x, train_y)\n",
    "\n",
    "    #Generate predictions and plot confusion matrix\n",
    "    pred_y = random_forest.predict_proba(test_x)\n",
    "\n",
    "    return test_y.to_numpy(), pred_y[:,1], data_x, random_forest"
   ]
  },
  {
   "cell_type": "code",
   "execution_count": 96,
   "id": "55afdaa5-1228-4f38-a440-350c1c21571a",
   "metadata": {},
   "outputs": [],
   "source": [
    "data_path = 'denmark_infec.csv'"
   ]
  },
  {
   "cell_type": "code",
   "execution_count": 118,
   "id": "904fd197-42c4-4649-89f4-8c5978f8e822",
   "metadata": {},
   "outputs": [],
   "source": [
    "settings = {'Number of trees': 20, \n",
    "            'Split ratio' : 0.3,\n",
    "            'Maximum features' : 1}\n",
    "threshold = 0.35"
   ]
  },
  {
   "cell_type": "code",
   "execution_count": 119,
   "id": "0e4d52bf-aae3-4f3a-bd12-f0eb4a7b61d2",
   "metadata": {},
   "outputs": [],
   "source": [
    "# Put in data frame and make thresholds adaptable\n",
    "test_y, pred_y, test_x, random_forest = run_settings(settings)\n",
    "rounded_predictions = [1 if prediction >= threshold else 0 for prediction in pred_y]\n",
    "rounded_predictions = np.array(rounded_predictions)"
   ]
  },
  {
   "cell_type": "code",
   "execution_count": 120,
   "id": "2146adf5-d732-40fb-8795-89a28748b7fa",
   "metadata": {},
   "outputs": [
    {
     "name": "stdout",
     "output_type": "stream",
     "text": [
      "There are 502 deaths in the test set\n",
      "There are 399 deaths predicted by the model (with chosen threshold of 0.35)\n"
     ]
    },
    {
     "data": {
      "image/png": "[encoded data removed]",
      "text/plain": [
       "<Figure size 432x288 with 1 Axes>"
      ]
     },
     "metadata": {
      "needs_background": "light"
     },
     "output_type": "display_data"
    },
    {
     "data": {
      "image/png": "[encoded data removed]",
      "text/plain": [
       "<Figure size 432x288 with 1 Axes>"
      ]
     },
     "metadata": {
      "needs_background": "light"
     },
     "output_type": "display_data"
    },
    {
     "data": {
      "image/png": "[encoded data removed]",
      "text/plain": [
       "<Figure size 432x288 with 1 Axes>"
      ]
     },
     "metadata": {
      "needs_background": "light"
     },
     "output_type": "display_data"
    },
    {
     "data": {
      "image/png": "[encoded data removed]",
      "text/plain": [
       "<Figure size 432x288 with 1 Axes>"
      ]
     },
     "metadata": {
      "needs_background": "light"
     },
     "output_type": "display_data"
    }
   ],
   "source": [
    "plt.figure(\"1\")\n",
    "plot_feature_importance(test_x, random_forest)\n",
    "plt.figure(\"2\")\n",
    "plt.hist(test_y)\n",
    "plt.title(\"Distribution of true values (test_y)\")\n",
    "plt.figure(\"3\")\n",
    "plt.hist(pred_y,10)\n",
    "plt.title(\"Distribution of predicted (decimal) values (pred_y)\")\n",
    "plt.figure(\"4\")\n",
    "plt.hist(rounded_predictions,10)\n",
    "plt.title(\"Distribution of (rounded) predicted values (rounded_predictions)\")\n",
    "\n",
    "unique, counts = np.unique(test_y, return_counts=True)\n",
    "true_defaults = counts[1] \n",
    "true_nondefaults = counts[0]\n",
    "print(\"There are \" +str(true_defaults)+\" deaths in the test set\")\n",
    "unique_pred, counts_pred = np.unique(rounded_predictions, return_counts=True)\n",
    "pred_defaults = counts_pred[1]\n",
    "pred_nondefaults = counts_pred[0]\n",
    "print(\"There are \" +str(pred_defaults)+\" deaths predicted by the model (with chosen threshold of \"+str(threshold)+\")\")\n"
   ]
  },
  {
   "cell_type": "code",
   "execution_count": 121,
   "id": "089dff44-7b93-4d89-bd3b-48f474531c93",
   "metadata": {},
   "outputs": [
    {
     "data": {
      "image/png": "[encoded data removed]",
      "text/plain": [
       "<Figure size 144x144 with 1 Axes>"
      ]
     },
     "metadata": {
      "needs_background": "light"
     },
     "output_type": "display_data"
    }
   ],
   "source": [
    "true_pos = 0\n",
    "false_neg = 0\n",
    "false_pos = 0\n",
    "true_neg = 0\n",
    "\n",
    "for true_label, pred_label in zip(test_y, rounded_predictions):\n",
    "    if true_label == 1 and pred_label == 1:\n",
    "        true_pos = true_pos + 1\n",
    "    if true_label == 1 and pred_label == 0:\n",
    "        false_neg = false_neg + 1\n",
    "    if true_label == 0 and pred_label == 1:\n",
    "        false_pos = false_pos + 1\n",
    "    if true_label == 0 and pred_label == 0:\n",
    "        true_neg = true_neg + 1\n",
    "\n",
    "matrix = np.array([[true_neg, false_pos],\n",
    "                   [false_neg, true_pos]])\n",
    "\n",
    "fig, ax = plot_confusion_matrix(conf_mat=matrix, figsize=(2, 2))\n",
    "plt.show()\n",
    "\n"
   ]
  },
  {
   "cell_type": "code",
   "execution_count": 113,
   "id": "eaec983c-3302-4e12-81a2-c6dca0596bdd",
   "metadata": {},
   "outputs": [
    {
     "ename": "ValueError",
     "evalue": "multi_class must be in ('ovo', 'ovr')",
     "output_type": "error",
     "traceback": [
      "\u001b[0;31m---------------------------------------------------------------------------\u001b[0m",
      "\u001b[0;31mValueError\u001b[0m                                Traceback (most recent call last)",
      "\u001b[0;32m/tmp/ipykernel_58/1883363140.py\u001b[0m in \u001b[0;36m<module>\u001b[0;34m\u001b[0m\n\u001b[1;32m      1\u001b[0m \u001b[0;31m#plot ROC CURVE\u001b[0m\u001b[0;34m\u001b[0m\u001b[0;34m\u001b[0m\u001b[0;34m\u001b[0m\u001b[0m\n\u001b[1;32m      2\u001b[0m \u001b[0mplt\u001b[0m\u001b[0;34m.\u001b[0m\u001b[0mtitle\u001b[0m\u001b[0;34m(\u001b[0m\u001b[0;34m'ROC CURVE'\u001b[0m\u001b[0;34m)\u001b[0m\u001b[0;34m\u001b[0m\u001b[0;34m\u001b[0m\u001b[0m\n\u001b[0;32m----> 3\u001b[0;31m \u001b[0mplt\u001b[0m\u001b[0;34m.\u001b[0m\u001b[0mplot\u001b[0m\u001b[0;34m(\u001b[0m\u001b[0mroc_auc_score\u001b[0m\u001b[0;34m(\u001b[0m\u001b[0mtest_y\u001b[0m\u001b[0;34m,\u001b[0m \u001b[0mpred_y\u001b[0m\u001b[0;34m)\u001b[0m\u001b[0;34m)\u001b[0m\u001b[0;34m\u001b[0m\u001b[0;34m\u001b[0m\u001b[0m\n\u001b[0m\u001b[1;32m      4\u001b[0m \u001b[0mplt\u001b[0m\u001b[0;34m.\u001b[0m\u001b[0mplot\u001b[0m\u001b[0;34m(\u001b[0m\u001b[0;34m[\u001b[0m\u001b[0;36m0\u001b[0m\u001b[0;34m,\u001b[0m \u001b[0;36m1\u001b[0m\u001b[0;34m]\u001b[0m\u001b[0;34m,\u001b[0m \u001b[0mls\u001b[0m\u001b[0;34m=\u001b[0m\u001b[0;34m\"--\"\u001b[0m\u001b[0;34m)\u001b[0m\u001b[0;34m\u001b[0m\u001b[0;34m\u001b[0m\u001b[0m\n\u001b[1;32m      5\u001b[0m \u001b[0mplt\u001b[0m\u001b[0;34m.\u001b[0m\u001b[0mplot\u001b[0m\u001b[0;34m(\u001b[0m\u001b[0;34m[\u001b[0m\u001b[0;36m0\u001b[0m\u001b[0;34m,\u001b[0m \u001b[0;36m0\u001b[0m\u001b[0;34m]\u001b[0m\u001b[0;34m,\u001b[0m \u001b[0;34m[\u001b[0m\u001b[0;36m1\u001b[0m\u001b[0;34m,\u001b[0m \u001b[0;36m0\u001b[0m\u001b[0;34m]\u001b[0m \u001b[0;34m,\u001b[0m \u001b[0mc\u001b[0m\u001b[0;34m=\u001b[0m\u001b[0;34m\".7\"\u001b[0m\u001b[0;34m)\u001b[0m\u001b[0;34m,\u001b[0m \u001b[0mplt\u001b[0m\u001b[0;34m.\u001b[0m\u001b[0mplot\u001b[0m\u001b[0;34m(\u001b[0m\u001b[0;34m[\u001b[0m\u001b[0;36m1\u001b[0m\u001b[0;34m,\u001b[0m \u001b[0;36m1\u001b[0m\u001b[0;34m]\u001b[0m \u001b[0;34m,\u001b[0m \u001b[0mc\u001b[0m\u001b[0;34m=\u001b[0m\u001b[0;34m\"0.7\"\u001b[0m\u001b[0;34m)\u001b[0m\u001b[0;34m\u001b[0m\u001b[0;34m\u001b[0m\u001b[0m\n",
      "\u001b[0;32m/opt/conda/lib/python3.9/site-packages/sklearn/utils/validation.py\u001b[0m in \u001b[0;36minner_f\u001b[0;34m(*args, **kwargs)\u001b[0m\n\u001b[1;32m     61\u001b[0m             \u001b[0mextra_args\u001b[0m \u001b[0;34m=\u001b[0m \u001b[0mlen\u001b[0m\u001b[0;34m(\u001b[0m\u001b[0margs\u001b[0m\u001b[0;34m)\u001b[0m \u001b[0;34m-\u001b[0m \u001b[0mlen\u001b[0m\u001b[0;34m(\u001b[0m\u001b[0mall_args\u001b[0m\u001b[0;34m)\u001b[0m\u001b[0;34m\u001b[0m\u001b[0;34m\u001b[0m\u001b[0m\n\u001b[1;32m     62\u001b[0m             \u001b[0;32mif\u001b[0m \u001b[0mextra_args\u001b[0m \u001b[0;34m<=\u001b[0m \u001b[0;36m0\u001b[0m\u001b[0;34m:\u001b[0m\u001b[0;34m\u001b[0m\u001b[0;34m\u001b[0m\u001b[0m\n\u001b[0;32m---> 63\u001b[0;31m                 \u001b[0;32mreturn\u001b[0m \u001b[0mf\u001b[0m\u001b[0;34m(\u001b[0m\u001b[0;34m*\u001b[0m\u001b[0margs\u001b[0m\u001b[0;34m,\u001b[0m \u001b[0;34m**\u001b[0m\u001b[0mkwargs\u001b[0m\u001b[0;34m)\u001b[0m\u001b[0;34m\u001b[0m\u001b[0;34m\u001b[0m\u001b[0m\n\u001b[0m\u001b[1;32m     64\u001b[0m \u001b[0;34m\u001b[0m\u001b[0m\n\u001b[1;32m     65\u001b[0m             \u001b[0;31m# extra_args > 0\u001b[0m\u001b[0;34m\u001b[0m\u001b[0;34m\u001b[0m\u001b[0;34m\u001b[0m\u001b[0m\n",
      "\u001b[0;32m/opt/conda/lib/python3.9/site-packages/sklearn/metrics/_ranking.py\u001b[0m in \u001b[0;36mroc_auc_score\u001b[0;34m(y_true, y_score, average, sample_weight, max_fpr, multi_class, labels)\u001b[0m\n\u001b[1;32m    534\u001b[0m                              \"instead\".format(max_fpr))\n\u001b[1;32m    535\u001b[0m         \u001b[0;32mif\u001b[0m \u001b[0mmulti_class\u001b[0m \u001b[0;34m==\u001b[0m \u001b[0;34m'raise'\u001b[0m\u001b[0;34m:\u001b[0m\u001b[0;34m\u001b[0m\u001b[0;34m\u001b[0m\u001b[0m\n\u001b[0;32m--> 536\u001b[0;31m             \u001b[0;32mraise\u001b[0m \u001b[0mValueError\u001b[0m\u001b[0;34m(\u001b[0m\u001b[0;34m\"multi_class must be in ('ovo', 'ovr')\"\u001b[0m\u001b[0;34m)\u001b[0m\u001b[0;34m\u001b[0m\u001b[0;34m\u001b[0m\u001b[0m\n\u001b[0m\u001b[1;32m    537\u001b[0m         return _multiclass_roc_auc_score(y_true, y_score, labels,\n\u001b[1;32m    538\u001b[0m                                          multi_class, average, sample_weight)\n",
      "\u001b[0;31mValueError\u001b[0m: multi_class must be in ('ovo', 'ovr')"
     ]
    },
    {
     "data": {
      "image/png": "[encoded data removed]",
      "text/plain": [
       "<Figure size 432x288 with 1 Axes>"
      ]
     },
     "metadata": {
      "needs_background": "light"
     },
     "output_type": "display_data"
    }
   ],
   "source": [
    "#plot ROC CURVE\n",
    "plt.title('ROC CURVE')\n",
    "plt.plot(roc_auc_score(test_y, pred_y))\n",
    "plt.plot([0, 1], ls=\"--\")\n",
    "plt.plot([0, 0], [1, 0] , c=\".7\"), plt.plot([1, 1] , c=\"0.7\")\n",
    "plt.ylabel('True Positive Rate')\n",
    "plt.xlabel('False Positive Rate')\n",
    "fpr, tpr, threshold = roc_curve(test_y, pred_y)\n",
    "plt.plot(fpr, tpr)\n",
    "plt.show()\n",
    "\n",
    "print(\"ROC and AUC =\", roc_auc_score(test_y, pred_y))"
   ]
  },
  {
   "cell_type": "code",
   "execution_count": null,
   "id": "5f6dd13c-333f-439d-9055-5dafd99dcf78",
   "metadata": {},
   "outputs": [],
   "source": []
  },
  {
   "cell_type": "code",
   "execution_count": null,
   "id": "3f83e611-ae46-4ba6-b03e-2207c007dec6",
   "metadata": {},
   "outputs": [],
   "source": []
  },
  {
   "cell_type": "code",
   "execution_count": null,
   "id": "a205c2b7-0e57-4c1b-a506-2e3a369427ae",
   "metadata": {},
   "outputs": [],
   "source": []
  },
  {
   "cell_type": "code",
   "execution_count": null,
   "id": "9aee8283-2070-4b28-ab99-ba5214fb5120",
   "metadata": {},
   "outputs": [],
   "source": []
  }
 ],
 "metadata": {
  "kernelspec": {
   "display_name": "Python 3 (ipykernel)",
   "language": "python",
   "name": "python3"
  },
  "language_info": {
   "codemirror_mode": {
    "name": "ipython",
    "version": 3
   },
   "file_extension": ".py",
   "mimetype": "text/x-python",
   "name": "python",
   "nbconvert_exporter": "python",
   "pygments_lexer": "ipython3",
   "version": "3.9.6"
  }
 },
 "nbformat": 4,
 "nbformat_minor": 5
}
