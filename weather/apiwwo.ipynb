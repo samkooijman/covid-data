{
 "cells": [
  {
   "cell_type": "code",
   "execution_count": 1,
   "id": "9d039fd6-135c-4bcd-9290-526d37a40d62",
   "metadata": {},
   "outputs": [
    {
     "name": "stdout",
     "output_type": "stream",
     "text": [
      "Requirement already satisfied: wwo-hist in /opt/conda/lib/python3.9/site-packages (0.0.7)\n",
      "Note: you may need to restart the kernel to use updated packages.\n"
     ]
    }
   ],
   "source": [
    "pip install wwo-hist"
   ]
  },
  {
   "cell_type": "code",
   "execution_count": 2,
   "id": "cea896ef-d079-4656-a499-dd9a518656c2",
   "metadata": {},
   "outputs": [],
   "source": [
    "from wwo_hist import retrieve_hist_data"
   ]
  },
  {
   "cell_type": "code",
   "execution_count": 7,
   "id": "6d19d62b-8324-413b-9ff3-5ce06ce1da68",
   "metadata": {},
   "outputs": [],
   "source": [
    "import os\n",
    "os.chdir(\"test\")"
   ]
  },
  {
   "cell_type": "code",
   "execution_count": 9,
   "id": "fc2a6237-4ba8-4f84-b776-8f8bdfd960ab",
   "metadata": {},
   "outputs": [
    {
     "name": "stdout",
     "output_type": "stream",
     "text": [
      "\n",
      "\n",
      "Retrieving weather data for singapore\n",
      "\n",
      "\n",
      "Currently retrieving data for singapore: from 2019-12-01 to 2019-12-31\n",
      "Time elapsed (hh:mm:ss.ms) 0:00:00.675114\n",
      "Currently retrieving data for singapore: from 2020-01-01 to 2020-01-31\n",
      "Time elapsed (hh:mm:ss.ms) 0:00:01.331600\n",
      "Currently retrieving data for singapore: from 2020-02-01 to 2020-02-29\n",
      "Time elapsed (hh:mm:ss.ms) 0:00:02.115085\n",
      "Currently retrieving data for singapore: from 2020-03-01 to 2020-03-31\n",
      "Time elapsed (hh:mm:ss.ms) 0:00:02.931629\n",
      "Currently retrieving data for singapore: from 2020-04-01 to 2020-04-30\n",
      "Time elapsed (hh:mm:ss.ms) 0:00:03.519805\n",
      "Currently retrieving data for singapore: from 2020-05-01 to 2020-05-31\n",
      "Time elapsed (hh:mm:ss.ms) 0:00:04.121843\n",
      "Currently retrieving data for singapore: from 2020-06-01 to 2020-06-30\n",
      "Time elapsed (hh:mm:ss.ms) 0:00:04.745933\n",
      "Currently retrieving data for singapore: from 2020-07-01 to 2020-07-31\n",
      "Time elapsed (hh:mm:ss.ms) 0:00:05.372258\n",
      "Currently retrieving data for singapore: from 2020-08-01 to 2020-08-31\n",
      "Time elapsed (hh:mm:ss.ms) 0:00:06.007361\n",
      "Currently retrieving data for singapore: from 2020-09-01 to 2020-09-30\n",
      "Time elapsed (hh:mm:ss.ms) 0:00:06.620870\n",
      "Currently retrieving data for singapore: from 2020-10-01 to 2020-10-31\n",
      "Time elapsed (hh:mm:ss.ms) 0:00:07.467348\n",
      "Currently retrieving data for singapore: from 2020-11-01 to 2020-11-30\n",
      "Time elapsed (hh:mm:ss.ms) 0:00:08.053211\n",
      "Currently retrieving data for singapore: from 2020-12-01 to 2020-12-31\n",
      "Time elapsed (hh:mm:ss.ms) 0:00:08.690349\n",
      "Currently retrieving data for singapore: from 2021-01-01 to 2021-01-31\n",
      "Time elapsed (hh:mm:ss.ms) 0:00:09.300941\n",
      "Currently retrieving data for singapore: from 2021-02-01 to 2021-02-28\n",
      "Time elapsed (hh:mm:ss.ms) 0:00:09.978990\n",
      "Currently retrieving data for singapore: from 2021-03-01 to 2021-03-31\n",
      "Time elapsed (hh:mm:ss.ms) 0:00:10.584948\n",
      "Currently retrieving data for singapore: from 2021-04-01 to 2021-04-30\n",
      "Time elapsed (hh:mm:ss.ms) 0:00:11.211810\n",
      "Currently retrieving data for singapore: from 2021-05-01 to 2021-05-31\n",
      "Time elapsed (hh:mm:ss.ms) 0:00:13.589558\n",
      "Currently retrieving data for singapore: from 2021-06-01 to 2021-06-30\n",
      "Time elapsed (hh:mm:ss.ms) 0:00:14.188485\n",
      "Currently retrieving data for singapore: from 2021-07-01 to 2021-07-31\n",
      "Time elapsed (hh:mm:ss.ms) 0:00:14.845744\n",
      "Currently retrieving data for singapore: from 2021-08-01 to 2021-08-31\n",
      "Time elapsed (hh:mm:ss.ms) 0:00:16.092394\n",
      "Currently retrieving data for singapore: from 2021-09-01 to 2021-09-30\n",
      "Time elapsed (hh:mm:ss.ms) 0:00:16.768594\n",
      "Currently retrieving data for singapore: from 2021-10-01 to 2021-10-05\n",
      "Time elapsed (hh:mm:ss.ms) 0:00:16.908082\n",
      "\n",
      "\n",
      "export singapore completed!\n",
      "\n",
      "\n"
     ]
    }
   ],
   "source": [
    "frequency=24\n",
    "start_date = '1-DEC-2019'\n",
    "end_date = '5-OCT-2021'\n",
    "api_key = '0a11fd6cf9a446e2bd3115927210510'\n",
    "location_list = ['singapore']\n",
    "\n",
    "hist_weather_data = retrieve_hist_data(api_key,\n",
    "                                location_list,\n",
    "                                start_date,\n",
    "                                end_date,\n",
    "                                frequency,\n",
    "                                location_label = False,\n",
    "                                export_csv = True,\n",
    "                                store_df = True)"
   ]
  },
  {
   "cell_type": "code",
   "execution_count": null,
   "id": "e9dcd2b0-4fee-4cf0-a2e0-e6363bd62285",
   "metadata": {},
   "outputs": [],
   "source": []
  }
 ],
 "metadata": {
  "kernelspec": {
   "display_name": "Python 3 (ipykernel)",
   "language": "python",
   "name": "python3"
  },
  "language_info": {
   "codemirror_mode": {
    "name": "ipython",
    "version": 3
   },
   "file_extension": ".py",
   "mimetype": "text/x-python",
   "name": "python",
   "nbconvert_exporter": "python",
   "pygments_lexer": "ipython3",
   "version": "3.9.6"
  }
 },
 "nbformat": 4,
 "nbformat_minor": 5
}
